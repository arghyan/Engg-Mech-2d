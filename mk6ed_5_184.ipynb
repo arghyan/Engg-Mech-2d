{
 "cells": [
  {
   "cell_type": "markdown",
   "metadata": {},
   "source": [
    "### Meriam Kraige 6th edition, 5/184"
   ]
  },
  {
   "cell_type": "code",
   "execution_count": 89,
   "metadata": {
    "collapsed": false
   },
   "outputs": [],
   "source": [
    "from sympy import symbols, init_printing\n",
    "from sympy.physics.mechanics import ReferenceFrame\n",
    "from kinmod3 import ourpoint, oureqn\n",
    "init_printing()"
   ]
  },
  {
   "cell_type": "markdown",
   "metadata": {},
   "source": [
    "### Step 1"
   ]
  },
  {
   "cell_type": "code",
   "execution_count": 90,
   "metadata": {
    "collapsed": false
   },
   "outputs": [],
   "source": [
    "N=ReferenceFrame('N')\n",
    "theta=symbols('theta')\n",
    "N1=N.orientnew('N1','Axis',[theta,N.z])"
   ]
  },
  {
   "cell_type": "markdown",
   "metadata": {},
   "source": [
    "### Step 2"
   ]
  },
  {
   "cell_type": "code",
   "execution_count": 91,
   "metadata": {
    "collapsed": false
   },
   "outputs": [
    {
     "name": "stdout",
     "output_type": "stream",
     "text": [
      "C has a position vector 0\n",
      "\n",
      "B has a position vector h*N1.y\n",
      "\n",
      "A has a position vector L*N1.x + h*N1.y\n",
      "\n"
     ]
    }
   ],
   "source": [
    "C=ourpoint('C',N,[0,0])\n",
    "(L,h)=symbols('L,h')\n",
    "B=ourpoint('B',N1,[0,h])\n",
    "A=ourpoint('A',N1,[L,h])"
   ]
  },
  {
   "cell_type": "markdown",
   "metadata": {},
   "source": [
    "### Step 3"
   ]
  },
  {
   "cell_type": "code",
   "execution_count": 92,
   "metadata": {
    "collapsed": false
   },
   "outputs": [
    {
     "name": "stdout",
     "output_type": "stream",
     "text": [
      "C has a velocity v_c*N.x\n",
      "\n"
     ]
    }
   ],
   "source": [
    "C.setvel_direct(N,[v_c,0])"
   ]
  },
  {
   "cell_type": "markdown",
   "metadata": {},
   "source": [
    "### Step 4"
   ]
  },
  {
   "cell_type": "code",
   "execution_count": 93,
   "metadata": {
    "collapsed": true
   },
   "outputs": [],
   "source": [
    "omega,v_c,v_rel=symbols('omega,v_c,v_rel')"
   ]
  },
  {
   "cell_type": "markdown",
   "metadata": {},
   "source": [
    "### Step 5"
   ]
  },
  {
   "cell_type": "code",
   "execution_count": 94,
   "metadata": {
    "collapsed": false
   },
   "outputs": [
    {
     "name": "stdout",
     "output_type": "stream",
     "text": [
      "A  sliding wrt coincident point Ac\n",
      "Ac rigidly connected to C in body C-Ac\n",
      "A has a velocity  v_c*N.x + (-h*omega + v_rel)*N1.x + L*omega*N1.y\n",
      "\n",
      "v_c*N.x + (-h*omega + v_rel)*N1.x + L*omega*N1.y\n"
     ]
    },
    {
     "data": {
      "image/png": "[encoded data removed]",
      "text/latex": [
       "$$(- h \\omega + v_{c} \\operatorname{cos}\\left(\\theta\\right) + v_{rel})\\mathbf{\\hat{n1}_x} + (L \\omega - v_{c} \\operatorname{sin}\\left(\\theta\\right))\\mathbf{\\hat{n1}_y}$$"
      ],
      "text/plain": [
       "(-h⋅ω + v_c⋅cos(θ) + vᵣₑₗ) n1_x + (L⋅ω - v_c⋅sin(θ)) n1_y"
      ]
     },
     "execution_count": 94,
     "metadata": {},
     "output_type": "execute_result"
    }
   ],
   "source": [
    "A.calvel_sliding(omega*N.z,C,N1,[v_rel,0])\n",
    "print(A.vel)\n",
    "A.vel.express(N1)"
   ]
  },
  {
   "cell_type": "markdown",
   "metadata": {},
   "source": [
    " ### Step 7"
   ]
  },
  {
   "cell_type": "code",
   "execution_count": 95,
   "metadata": {
    "collapsed": false
   },
   "outputs": [
    {
     "name": "stdout",
     "output_type": "stream",
     "text": [
      "C has an acceleration a_c*N.x\n",
      "\n"
     ]
    }
   ],
   "source": [
    "C.setaccl_direct(N,[a_c,0])"
   ]
  },
  {
   "cell_type": "markdown",
   "metadata": {},
   "source": [
    "### Step 8"
   ]
  },
  {
   "cell_type": "code",
   "execution_count": 96,
   "metadata": {
    "collapsed": true
   },
   "outputs": [],
   "source": [
    "alpha,a_c,a_rel=symbols('alpha,a_c,a_rel')"
   ]
  },
  {
   "cell_type": "markdown",
   "metadata": {},
   "source": [
    "### Step 9"
   ]
  },
  {
   "cell_type": "code",
   "execution_count": 97,
   "metadata": {
    "collapsed": false
   },
   "outputs": [
    {
     "name": "stdout",
     "output_type": "stream",
     "text": [
      "A  sliding wrt coincident point Ac\n",
      "Ac rigidly connected to C in body C-Ac\n",
      "A has a acceleration  a_c*N.x + (-L*omega**2 + a_rel - alpha*h)*N1.x + (L*alpha - h*omega**2 + 2*omega*vrel)*N1.y\n",
      "\n",
      "a_c*N.x + (-L*omega**2 + a_rel - alpha*h)*N1.x + (L*alpha - h*omega**2 + 2*omega*vrel)*N1.y\n"
     ]
    },
    {
     "data": {
      "image/png": "[encoded data removed]",
      "text/latex": [
       "$$(- L \\omega^{2} + a_{c} \\operatorname{cos}\\left(\\theta\\right) + a_{rel} - \\alpha h)\\mathbf{\\hat{n1}_x} + (L \\alpha - a_{c} \\operatorname{sin}\\left(\\theta\\right) - h \\omega^{2} + 2 \\omega vrel)\\mathbf{\\hat{n1}_y}$$"
      ],
      "text/plain": [
       "⎛     2                          ⎞\n",
       "⎝- L⋅ω  + a_c⋅cos(θ) + aᵣₑₗ - α⋅h⎠ n1_x + ⎛                      2           ⎞\n",
       "⎝L⋅α - a_c⋅sin(θ) - h⋅ω  + 2⋅ω⋅vrel⎠ n1_y"
      ]
     },
     "execution_count": 97,
     "metadata": {},
     "output_type": "execute_result"
    }
   ],
   "source": [
    "A.calaccl_sliding(omega*N.z,alpha*N.z,C,N1,[vrel,0],N1,[a_rel,0])\n",
    "print(A.accl)\n",
    "A.accl.express(N1)"
   ]
  }
 ],
 "metadata": {
  "anaconda-cloud": {},
  "kernelspec": {
   "display_name": "Python [default]",
   "language": "python",
   "name": "python3"
  },
  "language_info": {
   "codemirror_mode": {
    "name": "ipython",
    "version": 3
   },
   "file_extension": ".py",
   "mimetype": "text/x-python",
   "name": "python",
   "nbconvert_exporter": "python",
   "pygments_lexer": "ipython3",
   "version": "3.5.2"
  }
 },
 "nbformat": 4,
 "nbformat_minor": 1
}
